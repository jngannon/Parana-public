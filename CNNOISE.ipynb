{
 "cells": [
  {
   "cell_type": "code",
   "execution_count": 1,
   "metadata": {},
   "outputs": [
    {
     "name": "stderr",
     "output_type": "stream",
     "text": [
      "C:\\Users\\Jim\\Anaconda3\\lib\\site-packages\\h5py\\__init__.py:36: FutureWarning: Conversion of the second argument of issubdtype from `float` to `np.floating` is deprecated. In future, it will be treated as `np.float64 == np.dtype(float).type`.\n",
      "  from ._conv import register_converters as _register_converters\n"
     ]
    },
    {
     "name": "stdout",
     "output_type": "stream",
     "text": [
      "Extracting /tmp/data/train-images-idx3-ubyte.gz\n",
      "Extracting /tmp/data/train-labels-idx1-ubyte.gz\n",
      "Extracting /tmp/data/t10k-images-idx3-ubyte.gz\n",
      "Extracting /tmp/data/t10k-labels-idx1-ubyte.gz\n"
     ]
    }
   ],
   "source": [
    "import tensorflow as tf\n",
    "import numpy as np\n",
    "from parana.Model import Model\n",
    "from parana.Layers import fc_layer\n",
    "from parana.Layers import softmax_layer\n",
    "from parana.optimizer import optimizer\n",
    "from parana.optimizer import adamopt\n",
    "from parana.Layers import conv_layer\n",
    "from parana.parameter_saver import saver\n",
    "from tensorflow.examples.tutorials.mnist import input_data\n",
    "mnist = input_data.read_data_sets(\"/tmp/data/\", one_hot=True, reshape=False)\n",
    "import pickle\n",
    "\n",
    "path = 'path'\n",
    "class this_model(Model):\n",
    "    \n",
    "    def __init__(self, inputs, labels):\n",
    "        self.inputs = inputs\n",
    "        self.labels = labels\n",
    "        self.cost_function = 'cross_entropy_l2'\n",
    "        self.logit_cost_function = 'quadratic_l2'\n",
    "        self.dropout = 0\n",
    "        self.layers = [conv_layer(inputs = inputs + noise,\n",
    "                                 height = 7, \n",
    "                                 width = 7, \n",
    "                                 filters = 12, \n",
    "                                 padding = 4, \n",
    "                                 stride = 1,\n",
    "                                 flatten = False,\n",
    "                                 weight_init = 'xavier',\n",
    "                                 weight_decay=0.0001, bias_decay=0.0001)]\n",
    "        self.layers.append(conv_layer(inputs = self.layers[0].activate,\n",
    "                                 height = 5, \n",
    "                                 width = 5, \n",
    "                                 filters = 15, \n",
    "                                 padding = 2, \n",
    "                                 stride = 1,\n",
    "                                 flatten = False,\n",
    "                                 weight_init = 'xavier',\n",
    "                                 weight_decay=0.0001, bias_decay=0.0001))\n",
    "        self.layers.append(conv_layer(inputs = self.layers[1].activate,\n",
    "                                 height = 3, \n",
    "                                 width = 3, \n",
    "                                 filters = 25, \n",
    "                                 padding = 1, \n",
    "                                 stride = 1,\n",
    "                                 flatten = False,\n",
    "                                 weight_init = 'xavier',\n",
    "                                 weight_decay=0.0001, bias_decay=0.0001))\n",
    "        self.layers.append(conv_layer(inputs = self.layers[2].activate,\n",
    "                                 height = 3, \n",
    "                                 width = 3, \n",
    "                                 filters = 20, \n",
    "                                 padding = 1, \n",
    "                                 stride = 1,\n",
    "                                 flatten = True,\n",
    "                                 weight_init = 'xavier',\n",
    "                                 weight_decay=0.0001, bias_decay=0.0001))\n",
    "        self.layers.append(fc_layer(inputs = self.layers[3].activate,\n",
    "                                   size = 1500,\n",
    "                                   weight_init = 'xavier',\n",
    "                                   weight_decay=0.0001, bias_decay=0.0001))\n",
    "        self.layers.append(fc_layer(inputs=self.layers[4].activate, \n",
    "                               weight_init = 'xavier',\n",
    "                               size=500, \n",
    "                               weight_decay=0.0001, bias_decay=0.0001))\n",
    "        self.layers.append(softmax_layer(inputs=self.layers[5].activate, \n",
    "                                          size=10, \n",
    "                                          weight_decay=0.0001, bias_decay=0.0001))\n",
    "\n",
    "X = tf.placeholder('float', [None, 28, 28, 1], name = 'Inputs')\n",
    "y = tf.placeholder('float', [None, 10], name = 'Labels')   \n",
    "\n",
    "# Limit on the intensity/strength of noise\n",
    "noise_limit = 0.35\n",
    "# Tensorflow assignments and functions\n",
    "noise = tf.Variable(tf.random_uniform([28,28,1], 0, 0.1), name='x_noise')\n",
    "set_zero_noise = tf.assign(noise, tf.zeros([28,28,1]))\n",
    "noise_placeholder = tf.placeholder('float', [28, 28,1], name = 'noise_placeholder')\n",
    "assign_noise = tf.assign(noise, noise_placeholder)\n",
    "X_noise = X + noise\n",
    "X_noise = tf.clip_by_value(X_noise, 0.0, 1.0)\n",
    "x_noise_clip = tf.assign(noise, tf.clip_by_value(noise, -noise_limit, noise_limit))\n",
    "\n",
    "sess = tf.Session()\n",
    "\n",
    "mymodel = this_model(X_noise, y)\n",
    "\n",
    "noise_opt = optimizer(sess, 0.1, mymodel.cost, model =  mymodel, variables_list = noise)\n",
    "\n",
    "model_saver = saver(mymodel, sess)\n",
    "\n",
    "sess.run(tf.global_variables_initializer())"
   ]
  },
  {
   "cell_type": "code",
   "execution_count": 2,
   "metadata": {},
   "outputs": [
    {
     "name": "stdout",
     "output_type": "stream",
     "text": [
      "Parameters loaded from  c:/users/jim/tensorflowtrials/cnn99.23%SCE.p\n",
      "0.9923847734928131\n"
     ]
    }
   ],
   "source": [
    "sess.run(set_zero_noise)\n",
    "model_saver.load_parameters('model.p'.format(path))\n",
    "print(model_saver.split_accuracy(session = sess,\n",
    "                       stages=20,\n",
    "                       inputs = mnist.test.images, \n",
    "                       labels = mnist.test.labels))"
   ]
  },
  {
   "cell_type": "code",
   "execution_count": 3,
   "metadata": {},
   "outputs": [
    {
     "name": "stdout",
     "output_type": "stream",
     "text": [
      "Test Accuracy for class 0 0.5045090153813362\n",
      "Test Accuracy for class 1 0.3921843692660332\n",
      "Test Accuracy for class 2 0.25450901612639426\n",
      "Test Accuracy for class 3 0.6919839680194855\n",
      "Test Accuracy for class 4 0.40460922122001647\n",
      "Test Accuracy for class 5 0.30370741710066795\n",
      "Test Accuracy for class 6 0.40691382735967635\n",
      "Test Accuracy for class 7 0.3122244507074356\n",
      "Test Accuracy for class 8 0.37685371190309525\n",
      "Test Accuracy for class 9 0.37224448621273043\n",
      "Test Accuracy with no noise 0.9923847734928131\n"
     ]
    }
   ],
   "source": [
    "path = 'path'\n",
    "\n",
    "# Loop over noise_opt and pickle each noise file\n",
    "for adversary_class in range(10):\n",
    "    for i in range(5000):\n",
    "        batch = mnist.train.next_batch(250)\n",
    "        #Set labels to zero then target class to 1\n",
    "        adv_labels = np.zeros_like(batch[1])\n",
    "        adv_labels[:, adversary_class] = 1.0\n",
    "        batch = (batch[0], adv_labels)\n",
    "        noise_opt.min_step(data = {X:batch[0], y:batch[1]})\n",
    "        sess.run(x_noise_clip)\n",
    "    noisevector = sess.run(noise)\n",
    "    #pickle.dump(noisevector, open('{}adv_class_{}_limit_{}.p'.format(path, adversary_class, noise_limit), 'wb'))\n",
    "    print('Test Accuracy for class {}'.format(adversary_class),model_saver.split_accuracy(session = sess,\n",
    "                       stages=20,\n",
    "                       inputs = mnist.test.images, \n",
    "                       labels = mnist.test.labels))\n",
    "    #reset the noise vector\n",
    "    sess.run(set_zero_noise)\n",
    "print('Test Accuracy with no noise',model_saver.split_accuracy(session = sess,\n",
    "                       stages=20,\n",
    "                       inputs = mnist.test.images, \n",
    "                       labels = mnist.test.labels))"
   ]
  },
  {
   "cell_type": "code",
   "execution_count": 6,
   "metadata": {},
   "outputs": [],
   "source": [
    "file_list = ['{}adv_class_0_limit_0.35.p', '{}adv_class_1_limit_0.35.p', '{}adv_class_2_limit_0.35.p', \n",
    "             '{}adv_class_3_limit_0.35.p', '{}adv_class_4_limit_0.35.p', '{}adv_class_5_limit_0.35.p',\n",
    "             '{}adv_class_6_limit_0.35.p', '{}adv_class_7_limit_0.35.p', '{}adv_class_8_limit_0.35.p', \n",
    "             '{}adv_class_9_limit_0.35.p']\n"
   ]
  },
  {
   "cell_type": "code",
   "execution_count": 7,
   "metadata": {},
   "outputs": [
    {
     "name": "stdout",
     "output_type": "stream",
     "text": [
      "[0.5964929893612861, 0.5155310615897178, 0.41092184334993365, 0.27254509180784225, 0.48777554631233216, 0.14298597164452076, 0.3859719425439835, 0.35511022210121157, 0.5173346653580666, 0.5662324666976929]\n"
     ]
    }
   ],
   "source": [
    "path = 'path'\n",
    "vector_list = [pickle.load(open(i.format(path), 'rb')) for i in file_list]\n",
    "\n",
    "accuracy_list = []\n",
    "\n",
    "for i in vector_list:\n",
    "    accuracy = model_saver.split_accuracy(session = sess,\n",
    "                       stages=20,\n",
    "                       inputs = mnist.test.images + i, \n",
    "                       labels = mnist.test.labels)\n",
    "    accuracy_list.append(accuracy)\n",
    "print(accuracy_list)"
   ]
  },
  {
   "cell_type": "code",
   "execution_count": 8,
   "metadata": {},
   "outputs": [
    {
     "data": {
      "image/png": "[encoded data removed]",
      "text/plain": [
       "<matplotlib.figure.Figure at 0x27abc203860>"
      ]
     },
     "metadata": {},
     "output_type": "display_data"
    }
   ],
   "source": [
    "%matplotlib inline\n",
    "import numpy as np\n",
    "import pickle\n",
    "import matplotlib.pyplot as plt\n",
    "path = 'path'\n",
    "noisevector = pickle.load(open('{}adv_class_6_limit_0.35.p'.format(path), 'rb'))\n",
    "def plot_noise():\n",
    "    plt.imshow(np.reshape(noisevector, (28, 28)), interpolation='nearest', cmap='seismic',\n",
    "               vmin=-1.0, vmax=1.0)\n",
    "plot_noise()"
   ]
  },
  {
   "cell_type": "code",
   "execution_count": null,
   "metadata": {},
   "outputs": [],
   "source": []
  }
 ],
 "metadata": {
  "kernelspec": {
   "display_name": "Python 3",
   "language": "python",
   "name": "python3"
  },
  "language_info": {
   "codemirror_mode": {
    "name": "ipython",
    "version": 3
   },
   "file_extension": ".py",
   "mimetype": "text/x-python",
   "name": "python",
   "nbconvert_exporter": "python",
   "pygments_lexer": "ipython3",
   "version": "3.6.3"
  }
 },
 "nbformat": 4,
 "nbformat_minor": 2
}
