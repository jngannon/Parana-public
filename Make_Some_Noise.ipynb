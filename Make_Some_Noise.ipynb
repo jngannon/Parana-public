{
 "cells": [
  {
   "cell_type": "markdown",
   "metadata": {},
   "source": [
    "# Creates and pickles adversarial noise for the mnist dataset.\n",
    "The model is trained and saved in another notebook\n",
    "## Define the model"
   ]
  },
  {
   "cell_type": "code",
   "execution_count": 1,
   "metadata": {},
   "outputs": [
    {
     "name": "stderr",
     "output_type": "stream",
     "text": [
      "C:\\Users\\Jim\\Anaconda3\\lib\\site-packages\\h5py\\__init__.py:36: FutureWarning: Conversion of the second argument of issubdtype from `float` to `np.floating` is deprecated. In future, it will be treated as `np.float64 == np.dtype(float).type`.\n",
      "  from ._conv import register_converters as _register_converters\n"
     ]
    },
    {
     "name": "stdout",
     "output_type": "stream",
     "text": [
      "Populating the interactive namespace from numpy and matplotlib\n",
      "Extracting MNIST_data/train-images-idx3-ubyte.gz\n",
      "Extracting MNIST_data/train-labels-idx1-ubyte.gz\n",
      "Extracting MNIST_data/t10k-images-idx3-ubyte.gz\n",
      "Extracting MNIST_data/t10k-labels-idx1-ubyte.gz\n"
     ]
    }
   ],
   "source": [
    "import tensorflow as tf\n",
    "import numpy as np\n",
    "from parana.Model import Model\n",
    "from parana.Layers import fc_layer\n",
    "from parana.Layers import softmax_layer\n",
    "from parana.optimizer import optimizer\n",
    "from parana.optimizer import adamopt\n",
    "from parana.parameter_saver import saver\n",
    "import matplotlib.pyplot as plt\n",
    "import pickle\n",
    "\n",
    "%pylab inline\n",
    "pylab.rcParams['figure.figsize'] = (10, 6)\n",
    "\n",
    "#path = Path where you want to save noise\n",
    "\n",
    "from tensorflow.examples.tutorials.mnist import input_data\n",
    "mnist = input_data.read_data_sets('MNIST_data/', one_hot = True)\n",
    "\n",
    "class this_model(Model):\n",
    "    \n",
    "    def __init__(self, inputs, labels):\n",
    "        self.inputs = inputs\n",
    "        self.labels = labels\n",
    "        self.cost_function = 'quadratic_l2'\n",
    "        self.logit_cost_function = 'quadratic_l2'\n",
    "        self.dropout = 0.7\n",
    "        self.layers = [fc_layer(inputs=inputs + noise,\n",
    "                               weight_init = 'xavier',\n",
    "                               size=1500,\n",
    "                               weight_decay=0.0001, bias_decay=0.0001)]\n",
    "        self.layers.append(fc_layer(inputs=self.layers[0].activate, \n",
    "                               weight_init = 'xavier',\n",
    "                               size=800, \n",
    "                               weight_decay=0.0001, bias_decay=0.0001))\n",
    "        self.layers.append(fc_layer(inputs=self.layers[1].activate, \n",
    "                               weight_init = 'xavier',\n",
    "                               size=400, \n",
    "                               weight_decay=0.0001, bias_decay=0.0001))\n",
    "        self.layers.append(softmax_layer(inputs=self.layers[2].activate, \n",
    "                                          size=10, \n",
    "                                          weight_decay=0.0001, bias_decay=0.0001))\n",
    "    \n",
    "X = tf.placeholder(tf.float32, [None, 784])\n",
    "y = tf.placeholder(tf.float32, [None, 10])\n",
    "\n",
    "# Limit on the intensity/strength of noise\n",
    "noise_limit = 0.25\n",
    "\n",
    "# Tensorflow assignments and functions\n",
    "noise = tf.Variable(tf.zeros([784]), name='x_noise')\n",
    "set_zero_noise = tf.assign(noise, tf.zeros([784]))\n",
    "noise_placeholder = tf.placeholder('float', [784], name = 'noise_placeholder')\n",
    "assign_noise = tf.assign(noise, noise_placeholder)\n",
    "X_noise = X + noise\n",
    "X_noise = tf.clip_by_value(X_noise, 0.0, 1.0)\n",
    "x_noise_clip = tf.assign(noise, tf.clip_by_value(noise, -noise_limit, noise_limit))\n",
    "\n",
    "mymodel = this_model(X_noise, y)\n",
    "\n",
    "sess = tf.Session()\n",
    "\n",
    "#Optimizer for training the noise vector\n",
    "noise_opt = optimizer(sess, 0.1, mymodel.cost, model =  mymodel, variables_list = noise)\n",
    "\n",
    "sess.run(tf.global_variables_initializer())\n",
    "\n",
    "model_saver = saver(mymodel, sess)"
   ]
  },
  {
   "cell_type": "markdown",
   "metadata": {},
   "source": [
    "## Load the model"
   ]
  },
  {
   "cell_type": "code",
   "execution_count": 6,
   "metadata": {},
   "outputs": [
    {
     "name": "stdout",
     "output_type": "stream",
     "text": [
      "Parameters loaded from  c:/users/jim/tensorflowtrials/ANN_98.13%_pruned.p\n",
      "0.9813\n"
     ]
    }
   ],
   "source": [
    "#modelpath = Where you store your model\n",
    "model_saver.load_parameters('{model.p'.format(path))\n",
    "print(mymodel.accuracy(sess,inputs =  mnist.test.images, labels =  mnist.test.labels))"
   ]
  },
  {
   "cell_type": "markdown",
   "metadata": {},
   "source": [
    "## Pickle the noise"
   ]
  },
  {
   "cell_type": "code",
   "execution_count": 7,
   "metadata": {},
   "outputs": [
    {
     "name": "stdout",
     "output_type": "stream",
     "text": [
      "Test Accuracy for class 0 0.98\n",
      "Test Accuracy for class 1 0.9785\n",
      "Test Accuracy for class 2 0.9063\n",
      "Test Accuracy for class 3 0.9389\n",
      "Test Accuracy for class 4 0.9277\n",
      "Test Accuracy for class 5 0.9755\n",
      "Test Accuracy for class 6 0.976\n",
      "Test Accuracy for class 7 0.8824\n",
      "Test Accuracy for class 8 0.976\n",
      "Test Accuracy for class 9 0.9616\n",
      "Test Accuracy with no noise 0.9813\n"
     ]
    }
   ],
   "source": [
    "path = 'path'\n",
    "import pickle\n",
    "# Loop over noise_opt and pickle each noise file\n",
    "for adversary_class in range(10):\n",
    "    for i in range(5000):\n",
    "        batch = mnist.train.next_batch(250)\n",
    "        #Set labels to zero then target class to 1\n",
    "        adv_labels = np.zeros_like(batch[1])\n",
    "        adv_labels[:, adversary_class] = 1.0\n",
    "        batch = (batch[0], adv_labels)\n",
    "        noise_opt.min_step(data = {X:batch[0], y:batch[1]})\n",
    "        sess.run(x_noise_clip)\n",
    "    noisevector = sess.run(noise)\n",
    "    pickle.dump(noisevector, open('{}adv_class_{}_limit_{}.p'.format(path, adversary_class, noise_limit), 'wb'))\n",
    "    print('Test Accuracy for class {}'.format(adversary_class),mymodel.accuracy(sess,inputs =  mnist.test.images, labels =  mnist.test.labels))\n",
    "    #reset the noise vector\n",
    "    sess.run(set_zero_noise)\n",
    "print('Test Accuracy with no noise',mymodel.accuracy(sess,inputs =  mnist.test.images, labels =  mnist.test.labels))"
   ]
  },
  {
   "cell_type": "markdown",
   "metadata": {},
   "source": [
    "# Sanity check"
   ]
  },
  {
   "cell_type": "code",
   "execution_count": 5,
   "metadata": {},
   "outputs": [
    {
     "name": "stdout",
     "output_type": "stream",
     "text": [
      "Accuracy with noise 0.984\n",
      "Test Accuracy 0.9815\n"
     ]
    }
   ],
   "source": [
    "noisevector = sess.run(x_noise)\n",
    "#print accuracy with noise added\n",
    "batch = mnist.train.next_batch(250)\n",
    "train_accuracy = sess.run(mymodel.accuracy, feed_dict = {X:batch[0], y:batch[1]})\n",
    "print('Accuracy with noise', train_accuracy)\n",
    "print('Test Accuracy',sess.run(mymodel.accuracy, feed_dict = {X:mnist.test.images, y:mnist.test.labels}))"
   ]
  },
  {
   "cell_type": "markdown",
   "metadata": {},
   "source": [
    "# Look at one of the noise vectors as an image"
   ]
  },
  {
   "cell_type": "code",
   "execution_count": 4,
   "metadata": {},
   "outputs": [
    {
     "data": {
      "image/png": "[encoded data removed]",
      "text/plain": [
       "<matplotlib.figure.Figure at 0x1feb2cf9cf8>"
      ]
     },
     "metadata": {},
     "output_type": "display_data"
    }
   ],
   "source": [
    "%matplotlib inline\n",
    "import numpy as np\n",
    "import pickle\n",
    "import matplotlib.pyplot as plt\n",
    "path = 'c:/users/jim/tensorflowtrials/adv_noise/'\n",
    "#noisevector = pickle.load(open('{}adv_class_2_limit_0.25.p'.format(path), 'rb'))\n",
    "def plot_noise():\n",
    "    plt.imshow(np.reshape(noisevector, (28, 28)), interpolation='nearest', cmap='seismic',\n",
    "               vmin=-1.0, vmax=1.0)\n",
    "plot_noise()"
   ]
  }
 ],
 "metadata": {
  "kernelspec": {
   "display_name": "Python 3",
   "language": "python",
   "name": "python3"
  },
  "language_info": {
   "codemirror_mode": {
    "name": "ipython",
    "version": 3
   },
   "file_extension": ".py",
   "mimetype": "text/x-python",
   "name": "python",
   "nbconvert_exporter": "python",
   "pygments_lexer": "ipython3",
   "version": "3.6.3"
  }
 },
 "nbformat": 4,
 "nbformat_minor": 2
}
